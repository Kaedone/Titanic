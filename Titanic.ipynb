{
 "nbformat": 4,
 "nbformat_minor": 0,
 "metadata": {
  "accelerator": "TPU",
  "colab": {
   "name": "Titanic.ipynb",
   "provenance": [],
   "collapsed_sections": []
  },
  "kernelspec": {
   "display_name": "Python 3",
   "language": "python",
   "name": "python3"
  },
  "language_info": {
   "codemirror_mode": {
    "name": "ipython",
    "version": 3
   },
   "file_extension": ".py",
   "mimetype": "text/x-python",
   "name": "python",
   "nbconvert_exporter": "python",
   "pygments_lexer": "ipython3",
   "version": "3.9.0"
  }
 },
 "cells": [
  {
   "cell_type": "code",
   "metadata": {
    "id": "z7DlOgnOlprf"
   },
   "source": [
    "import numpy as np # linear algebra\n",
    "import pandas as pd # data processing, CSV file I/O (e.g. pd.read_csv)\n",
    "from sklearn.tree import DecisionTreeRegressor\n",
    "from sklearn.metrics import roc_auc_score\n"
   ],
   "execution_count": 2,
   "outputs": []
  },
  {
   "cell_type": "code",
   "metadata": {
    "pycharm": {
     "name": "#%%\n"
    },
    "id": "avbJ4DbCvgFf"
   },
   "source": [
    "\n",
    "pima = pd.read_csv(r\"train.csv\")\n",
    "dp=pd.read_csv(r\"test.csv\")\n"
   ],
   "execution_count": 3,
   "outputs": []
  },
  {
   "cell_type": "code",
   "metadata": {
    "colab": {
     "base_uri": "https://localhost:8080/"
    },
    "id": "_1FHZnerjA2t",
    "outputId": "cab164c6-a10b-4742-e691-0cfa831e764f"
   },
   "source": [
    "\n",
    "\n",
    "for i in range(len(pima['PassengerId'])):\n",
    "    if pd.isnull(pima['PassengerId'][i]):\n",
    "        pima['PassengerId'][i]=int(-1)\n",
    "\n",
    "\n",
    "    if pd.isnull(pima['Survived'][i]):\n",
    "        pima['Survived'][i]=int(-1)\n",
    "\n",
    "\n",
    "    if pd.isnull(pima['Pclass'][i]):\n",
    "        pima['Pclass'][i]=int(-1)\n",
    "\n",
    "\n",
    "\n",
    "    if pd.isnull(pima['Name'][i]):\n",
    "        pima['Name'][i]=int(-1)\n",
    "\n",
    "\n",
    "\n",
    "    if pima['Sex'][i]=='male':\n",
    "        pima['Sex'][i]=int(1)\n",
    "    else:\n",
    "        pima['Sex'][i]=int(-1)\n",
    "\n",
    "\n",
    "\n",
    "\n",
    "    if pd.isnull(pima['Age'][i]):\n",
    "        pima['Age'][i]=int(-1)\n",
    "\n",
    "\n",
    "\n",
    "    if pd.isnull(pima['SibSp'][i]):\n",
    "        pima['SibSp'][i]=int(-1)\n",
    "\n",
    "\n",
    "\n",
    "    if pd.isnull(pima['Parch'][i]):\n",
    "        pima['Parch'][i]=int(-1)\n",
    "\n",
    "\n",
    "\n",
    "    if pd.isnull(pima['Cabin'][i]):\n",
    "        pima['Cabin'][i]=int(-1)\n",
    "\n",
    "\n",
    "\n",
    "\n",
    "\n",
    "    if pd.isnull(pima['Embarked'][i]):\n",
    "        pima['Embarked'][i]=int(-1)\n",
    "\n",
    "\n",
    "\n",
    "    if len(str(pima['Cabin'][i]).split(\" \")) > 1:\n",
    "        pima['Cabin'][i]=int(2)\n",
    "    else:\n",
    "        pima['Cabin'][i]=int(1)\n"
   ],
   "execution_count": 4,
   "outputs": [
    {
     "name": "stderr",
     "output_type": "stream",
     "text": [
      "<ipython-input-4-6c37ab8baed4>:21: SettingWithCopyWarning: \n",
      "A value is trying to be set on a copy of a slice from a DataFrame\n",
      "\n",
      "See the caveats in the documentation: https://pandas.pydata.org/pandas-docs/stable/user_guide/indexing.html#returning-a-view-versus-a-copy\n",
      "  pima['Sex'][i]=int(1)\n",
      "<ipython-input-4-6c37ab8baed4>:44: SettingWithCopyWarning: \n",
      "A value is trying to be set on a copy of a slice from a DataFrame\n",
      "\n",
      "See the caveats in the documentation: https://pandas.pydata.org/pandas-docs/stable/user_guide/indexing.html#returning-a-view-versus-a-copy\n",
      "  pima['Cabin'][i]=int(-1)\n",
      "<ipython-input-4-6c37ab8baed4>:58: SettingWithCopyWarning: \n",
      "A value is trying to be set on a copy of a slice from a DataFrame\n",
      "\n",
      "See the caveats in the documentation: https://pandas.pydata.org/pandas-docs/stable/user_guide/indexing.html#returning-a-view-versus-a-copy\n",
      "  pima['Cabin'][i]=int(1)\n",
      "<ipython-input-4-6c37ab8baed4>:23: SettingWithCopyWarning: \n",
      "A value is trying to be set on a copy of a slice from a DataFrame\n",
      "\n",
      "See the caveats in the documentation: https://pandas.pydata.org/pandas-docs/stable/user_guide/indexing.html#returning-a-view-versus-a-copy\n",
      "  pima['Sex'][i]=int(-1)\n",
      "<ipython-input-4-6c37ab8baed4>:29: SettingWithCopyWarning: \n",
      "A value is trying to be set on a copy of a slice from a DataFrame\n",
      "\n",
      "See the caveats in the documentation: https://pandas.pydata.org/pandas-docs/stable/user_guide/indexing.html#returning-a-view-versus-a-copy\n",
      "  pima['Age'][i]=int(-1)\n",
      "<ipython-input-4-6c37ab8baed4>:56: SettingWithCopyWarning: \n",
      "A value is trying to be set on a copy of a slice from a DataFrame\n",
      "\n",
      "See the caveats in the documentation: https://pandas.pydata.org/pandas-docs/stable/user_guide/indexing.html#returning-a-view-versus-a-copy\n",
      "  pima['Cabin'][i]=int(2)\n",
      "<ipython-input-4-6c37ab8baed4>:51: SettingWithCopyWarning: \n",
      "A value is trying to be set on a copy of a slice from a DataFrame\n",
      "\n",
      "See the caveats in the documentation: https://pandas.pydata.org/pandas-docs/stable/user_guide/indexing.html#returning-a-view-versus-a-copy\n",
      "  pima['Embarked'][i]=int(-1)\n"
     ]
    }
   ]
  },
  {
   "cell_type": "code",
   "metadata": {
    "pycharm": {
     "name": "#%%\n"
    },
    "colab": {
     "base_uri": "https://localhost:8080/"
    },
    "id": "OLavLM1BvgFi",
    "outputId": "34024ccb-0e9b-4d0d-8ba7-4a11bee080a4"
   },
   "source": [
    "for i in range(len(dp['PassengerId'])):\n",
    "\n",
    "    if pd.isnull(dp['PassengerId'][i]):\n",
    "        dp['PassengerId'][i]=int(-1)\n",
    "\n",
    "    if pd.isnull(dp['Pclass'][i]):\n",
    "        dp['Pclass'][i]=int(-1)\n",
    "\n",
    "    if pd.isnull(dp['Name'][i]):\n",
    "        dp['Name'][i]=int(-1)\n",
    "\n",
    "    if dp['Sex'][i]=='male':\n",
    "        dp['Sex'][i]=int(1)\n",
    "    else:\n",
    "        dp['Sex'][i]=int(-1)\n",
    "\n",
    "    if pd.isnull(dp['Age'][i]):\n",
    "        dp['Age'][i]=int(-1)\n",
    "\n",
    "    if pd.isnull(dp['SibSp'][i]):\n",
    "        dp['SibSp'][i]=int(-1)\n",
    "\n",
    "    if pd.isnull(dp['Parch'][i]):\n",
    "        dp['Parch'][i]=int(-1)\n",
    "\n",
    "    if pd.isnull(dp['Cabin'][i]):\n",
    "        dp['Cabin'][i]=int(-1)\n",
    "\n",
    "    if pd.isnull(dp['Embarked'][i]):\n",
    "        dp['Embarked'][i]=int(-1)\n",
    "\n",
    "    if len(str(dp['Cabin'][i]).split(\" \")) > 1:\n",
    "        dp['Cabin'][i]=int(2)\n",
    "    else:\n",
    "        dp['Cabin'][i]=int(1)"
   ],
   "execution_count": 5,
   "outputs": [
    {
     "name": "stderr",
     "output_type": "stream",
     "text": [
      "<ipython-input-5-dcc22575fb77>:13: SettingWithCopyWarning: \n",
      "A value is trying to be set on a copy of a slice from a DataFrame\n",
      "\n",
      "See the caveats in the documentation: https://pandas.pydata.org/pandas-docs/stable/user_guide/indexing.html#returning-a-view-versus-a-copy\n",
      "  dp['Sex'][i]=int(1)\n",
      "<ipython-input-5-dcc22575fb77>:27: SettingWithCopyWarning: \n",
      "A value is trying to be set on a copy of a slice from a DataFrame\n",
      "\n",
      "See the caveats in the documentation: https://pandas.pydata.org/pandas-docs/stable/user_guide/indexing.html#returning-a-view-versus-a-copy\n",
      "  dp['Cabin'][i]=int(-1)\n",
      "<ipython-input-5-dcc22575fb77>:35: SettingWithCopyWarning: \n",
      "A value is trying to be set on a copy of a slice from a DataFrame\n",
      "\n",
      "See the caveats in the documentation: https://pandas.pydata.org/pandas-docs/stable/user_guide/indexing.html#returning-a-view-versus-a-copy\n",
      "  dp['Cabin'][i]=int(1)\n",
      "<ipython-input-5-dcc22575fb77>:15: SettingWithCopyWarning: \n",
      "A value is trying to be set on a copy of a slice from a DataFrame\n",
      "\n",
      "See the caveats in the documentation: https://pandas.pydata.org/pandas-docs/stable/user_guide/indexing.html#returning-a-view-versus-a-copy\n",
      "  dp['Sex'][i]=int(-1)\n",
      "<ipython-input-5-dcc22575fb77>:18: SettingWithCopyWarning: \n",
      "A value is trying to be set on a copy of a slice from a DataFrame\n",
      "\n",
      "See the caveats in the documentation: https://pandas.pydata.org/pandas-docs/stable/user_guide/indexing.html#returning-a-view-versus-a-copy\n",
      "  dp['Age'][i]=int(-1)\n",
      "<ipython-input-5-dcc22575fb77>:33: SettingWithCopyWarning: \n",
      "A value is trying to be set on a copy of a slice from a DataFrame\n",
      "\n",
      "See the caveats in the documentation: https://pandas.pydata.org/pandas-docs/stable/user_guide/indexing.html#returning-a-view-versus-a-copy\n",
      "  dp['Cabin'][i]=int(2)\n"
     ]
    }
   ]
  },
  {
   "cell_type": "code",
   "metadata": {
    "id": "nEtmKylyjucW",
    "pycharm": {
     "name": "#%%\n"
    }
   },
   "source": [
    "answer=np.array(list(zip(pima['Survived'])))\n",
    "inpM = np.array(list(zip(pima['Sex'],pima['SibSp'],pima['Age'],pima['Cabin'])))\n",
    "inpP = np.array(list(zip(dp['Sex'], dp['SibSp'], dp['Age'], dp['Cabin'])))"
   ],
   "execution_count": 6,
   "outputs": []
  },
  {
   "cell_type": "code",
   "metadata": {
    "pycharm": {
     "name": "#%%\n"
    },
    "id": "VjfesD6NvgFk"
   },
   "source": [
    "\n",
    "m = DecisionTreeRegressor()"
   ],
   "execution_count": 7,
   "outputs": []
  },
  {
   "cell_type": "code",
   "metadata": {
    "pycharm": {
     "name": "#%%\n"
    },
    "colab": {
     "base_uri": "https://localhost:8080/"
    },
    "id": "G4q2cf4VvgFl",
    "outputId": "47622253-9b03-45ea-c52a-2b8a16366923"
   },
   "source": [
    "m.fit(inpM[:624],answer[:624])"
   ],
   "execution_count": 8,
   "outputs": [
    {
     "data": {
      "text/plain": "DecisionTreeRegressor()"
     },
     "execution_count": 8,
     "metadata": {},
     "output_type": "execute_result"
    }
   ]
  },
  {
   "cell_type": "code",
   "metadata": {
    "pycharm": {
     "name": "#%%\n"
    },
    "id": "cvwFqScwvgFl"
   },
   "source": [
    "y_pred=m.predict(inpM)"
   ],
   "execution_count": 9,
   "outputs": []
  },
  {
   "cell_type": "code",
   "metadata": {
    "pycharm": {
     "name": "#%%\n"
    },
    "colab": {
     "base_uri": "https://localhost:8080/",
     "height": 341
    },
    "id": "QwUgR2UyvgFm",
    "outputId": "58ac7e1d-5d3e-4ca0-c4e7-664068668fdc"
   },
   "source": [
    "headers=['PassengerId','Survived']\n",
    "df = pd.DataFrame()\n",
    "df['PassengerId']=pima['PassengerId']\n",
    "df['Survived']=y_pred\n",
    "df.drop(df.columns[[0]], axis='columns')\n",
    "df.to_csv('submission.csv', header = ['PassengerId','Survived'])\n",
    "\n",
    "\n"
   ],
   "execution_count": 11,
   "outputs": []
  }
 ]
}